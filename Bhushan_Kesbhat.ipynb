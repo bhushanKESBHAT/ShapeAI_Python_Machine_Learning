{
  "nbformat": 4,
  "nbformat_minor": 0,
  "metadata": {
    "colab": {
      "provenance": []
    },
    "kernelspec": {
      "name": "python3",
      "display_name": "Python 3"
    },
    "language_info": {
      "name": "python"
    }
  },
  "cells": [
    {
      "cell_type": "code",
      "execution_count": 6,
      "metadata": {
        "id": "PNmwbbIpdsrU"
      },
      "outputs": [],
      "source": [
        "import numpy as np\n",
        "import pandas as pd\n",
        "import sklearn"
      ]
    },
    {
      "cell_type": "code",
      "source": [
        "from sklearn.datasets import load_boston \n",
        "df=load_boston()"
      ],
      "metadata": {
        "id": "50WDUKh_ebbz"
      },
      "execution_count": null,
      "outputs": []
    },
    {
      "cell_type": "code",
      "source": [
        "df.keys()"
      ],
      "metadata": {
        "colab": {
          "base_uri": "https://localhost:8080/"
        },
        "id": "C5gfJ4-vefNJ",
        "outputId": "9a998058-a34d-4bb5-e6f0-c15a6402ae69"
      },
      "execution_count": 11,
      "outputs": [
        {
          "output_type": "execute_result",
          "data": {
            "text/plain": [
              "dict_keys(['data', 'target', 'feature_names', 'DESCR', 'filename', 'data_module'])"
            ]
          },
          "metadata": {},
          "execution_count": 11
        }
      ]
    },
    {
      "cell_type": "code",
      "source": [
        "boston= pd.DataFrame (df.data, columns=df.feature_names)\n",
        "boston.head()"
      ],
      "metadata": {
        "id": "tuZ7rKgFek2E"
      },
      "execution_count": null,
      "outputs": []
    },
    {
      "cell_type": "code",
      "source": [
        "boston['MEDV']= df.target\n",
        "boston.head()"
      ],
      "metadata": {
        "id": "bTdSgvlAem5j"
      },
      "execution_count": null,
      "outputs": []
    },
    {
      "cell_type": "code",
      "source": [
        "boston.isnull()"
      ],
      "metadata": {
        "id": "c3i4Yp13eowO"
      },
      "execution_count": null,
      "outputs": []
    },
    {
      "cell_type": "code",
      "source": [
        "boston.isnull().sum()"
      ],
      "metadata": {
        "id": "9JVgOXa4eq_O"
      },
      "execution_count": null,
      "outputs": []
    },
    {
      "cell_type": "code",
      "source": [
        "from sklearn.model_selection import train_test_split\n",
        "X=boston.drop('MEDV', axis=1)\n",
        "Y=boston['MEDV']\n",
        "X_train , X_test, Y_train , Y_test = train_test_split ( X,Y,test_size=0.15)\n",
        "print (X_train.shape)\n",
        "print (X_test.shape)\n",
        "print (Y_train.shape)\n",
        "print (Y_test.shape)"
      ],
      "metadata": {
        "id": "Zu3j1inpeuBX"
      },
      "execution_count": null,
      "outputs": []
    },
    {
      "cell_type": "code",
      "source": [
        "from sklearn.linear_model import LinearRegression\n",
        "from sklearn.metrics import mean_squared_error"
      ],
      "metadata": {
        "id": "5SBMy6y1ewLa"
      },
      "execution_count": 17,
      "outputs": []
    },
    {
      "cell_type": "code",
      "source": [
        "lin_model = LinearRegression ()\n",
        "lin_model.fit( X_train, Y_train)"
      ],
      "metadata": {
        "colab": {
          "base_uri": "https://localhost:8080/"
        },
        "id": "ADd0lIw7ey-L",
        "outputId": "551fd085-4c0d-49d6-d334-f6c699c8f210"
      },
      "execution_count": 18,
      "outputs": [
        {
          "output_type": "execute_result",
          "data": {
            "text/plain": [
              "LinearRegression()"
            ]
          },
          "metadata": {},
          "execution_count": 18
        }
      ]
    },
    {
      "cell_type": "code",
      "source": [
        "y_train_predict =lin_model.predict(X_train )\n",
        "rmse= (np.sqrt(mean_squared_error ( Y_train, y_train_predict)))\n",
        "\n",
        "print(\"The model performance for training set\")\n",
        "print( 'RMSE is {}'.format(rmse))\n",
        "print( \"\\n\")\n",
        "y_test_predict = lin_model.predict (X_test)\n",
        "rmse = (np.sqrt(mean_squared_error(Y_test , y_test_predict)))\n",
        "print(\"The model performance for testing set\")\n",
        "print( 'RMSE is {}'.format(rmse))"
      ],
      "metadata": {
        "colab": {
          "base_uri": "https://localhost:8080/"
        },
        "id": "UhR70F8FgQND",
        "outputId": "fb1440e6-5f75-4b97-e0bf-997c43c4b354"
      },
      "execution_count": 19,
      "outputs": [
        {
          "output_type": "stream",
          "name": "stdout",
          "text": [
            "The model performance for training set\n",
            "RMSE is 4.594036703174391\n",
            "\n",
            "\n",
            "The model performance for testing set\n",
            "RMSE is 5.253810004581779\n"
          ]
        }
      ]
    }
  ]
}